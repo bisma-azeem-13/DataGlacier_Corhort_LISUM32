{
  "nbformat": 4,
  "nbformat_minor": 0,
  "metadata": {
    "colab": {
      "provenance": []
    },
    "kernelspec": {
      "name": "python3",
      "display_name": "Python 3"
    },
    "language_info": {
      "name": "python"
    }
  },
  "cells": [
    {
      "cell_type": "code",
      "source": [
        "%%writefile file.yaml\n",
        "file_type: csv\n",
        "dataset_name: stream_games_reviews\n",
        "file_name: stream_dataset\n",
        "table_name: reviews_table\n",
        "inbound_delimiter: \",\"\n",
        "outbound_delimiter: \"|\"\n",
        "skip_leading_rows: 0\n",
        "columns:\n",
        "  - app_id\n",
        "  - app_name\n",
        "  - review_text\n",
        "  - review_score\n",
        "  - review_votes"
      ],
      "metadata": {
        "colab": {
          "base_uri": "https://localhost:8080/"
        },
        "id": "hX-moZXGCZ2P",
        "outputId": "ec51ec63-9f17-4641-94fc-1309557f94c0"
      },
      "execution_count": 13,
      "outputs": [
        {
          "output_type": "stream",
          "name": "stdout",
          "text": [
            "Overwriting file.yaml\n"
          ]
        }
      ]
    },
    {
      "cell_type": "code",
      "source": [
        "%%writefile testutility.py\n",
        "import logging\n",
        "import os\n",
        "import subprocess\n",
        "import yaml\n",
        "import pandas as pd\n",
        "import datetime\n",
        "import gc\n",
        "import re\n",
        "\n",
        "\n",
        "################\n",
        "# File Reading #\n",
        "################\n",
        "\n",
        "def read_config_file(filepath):\n",
        "    with open(filepath, 'r') as stream:\n",
        "        try:\n",
        "            return yaml.safe_load(stream)\n",
        "        except yaml.YAMLError as exc:\n",
        "            logging.error(exc)\n",
        "\n",
        "\n",
        "def replacer(string, char):\n",
        "    pattern = char + '{2,}'\n",
        "    string = re.sub(pattern, char, string)\n",
        "    return string\n",
        "\n",
        "def col_header_val(df,table_config):\n",
        "    '''\n",
        "    replace whitespaces in the column\n",
        "    and standardized column names\n",
        "    '''\n",
        "    df.columns = df.columns.str.lower()\n",
        "    df.columns = df.columns.str.replace('[^\\w]','_',regex=True)\n",
        "    df.columns = list(map(lambda x: x.strip('_'), list(df.columns)))\n",
        "    df.columns = list(map(lambda x: replacer(x,'_'), list(df.columns)))\n",
        "    expected_col = list(map(lambda x: x.lower(),  table_config['columns']))\n",
        "    expected_col.sort()\n",
        "    df.columns =list(map(lambda x: x.lower(), list(df.columns)))\n",
        "    df = df.reindex(sorted(df.columns), axis=1)\n",
        "    if len(df.columns) == len(expected_col) and list(expected_col)  == list(df.columns):\n",
        "        print(\"column name and column length validation passed\")\n",
        "        return 1\n",
        "\n",
        "    else:\n",
        "        print(\"column name and column length validation failed\")\n",
        "        mismatched_columns_file = list(set(df.columns).difference(expected_col))\n",
        "        print(\"Following File columns are not in the YAML file\",mismatched_columns_file)\n",
        "        missing_YAML_file = list(set(expected_col).difference(df.columns))\n",
        "        print(\"Following YAML columns are not in the file uploaded\",missing_YAML_file)\n",
        "        logging.info(f'df columns: {df.columns}')\n",
        "        logging.info(f'expected columns: {expected_col}')\n",
        "        return 0\n"
      ],
      "metadata": {
        "colab": {
          "base_uri": "https://localhost:8080/"
        },
        "id": "KFkyrdc0Arvl",
        "outputId": "a9531a5b-fed9-4c68-ef67-f4c9aec69c34"
      },
      "execution_count": 14,
      "outputs": [
        {
          "output_type": "stream",
          "name": "stdout",
          "text": [
            "Overwriting testutility.py\n"
          ]
        }
      ]
    },
    {
      "cell_type": "code",
      "source": [
        "import pandas as pd"
      ],
      "metadata": {
        "id": "l1xMKu3h9hUP"
      },
      "execution_count": 15,
      "outputs": []
    },
    {
      "cell_type": "code",
      "source": [
        "from google.colab import drive\n",
        "drive.mount('/content/drive')"
      ],
      "metadata": {
        "colab": {
          "base_uri": "https://localhost:8080/"
        },
        "id": "FP8epLWT9lxB",
        "outputId": "9e6e845a-efb8-49f4-ebc3-d7247ed6e775"
      },
      "execution_count": 16,
      "outputs": [
        {
          "output_type": "stream",
          "name": "stdout",
          "text": [
            "Drive already mounted at /content/drive; to attempt to forcibly remount, call drive.mount(\"/content/drive\", force_remount=True).\n"
          ]
        }
      ]
    },
    {
      "cell_type": "code",
      "execution_count": 17,
      "metadata": {
        "id": "wC_ucIp69Nh-"
      },
      "outputs": [],
      "source": [
        "source_path = '/content/drive/MyDrive/Colab Notebooks/stream_dataset.csv'\n",
        "destination_path = '/content'"
      ]
    },
    {
      "cell_type": "code",
      "source": [
        "import shutil\n",
        "\n",
        "try:\n",
        "  shutil.copy2(source_path, destination_path)\n",
        "  print(\"File copied successfully!\")\n",
        "except FileNotFoundError:\n",
        "  print(\"Error: File not found at the source path.\")\n",
        "except Exception as e:\n",
        "  print(f\"An error occurred: {e}\")"
      ],
      "metadata": {
        "colab": {
          "base_uri": "https://localhost:8080/"
        },
        "id": "4drowiXx9tdC",
        "outputId": "93d74a6b-bdc6-478e-e927-4d995d4b9e70"
      },
      "execution_count": 18,
      "outputs": [
        {
          "output_type": "stream",
          "name": "stdout",
          "text": [
            "File copied successfully!\n"
          ]
        }
      ]
    },
    {
      "cell_type": "code",
      "source": [
        "import testutility as utl"
      ],
      "metadata": {
        "id": "wN-EmEK4-VaP"
      },
      "execution_count": 19,
      "outputs": []
    },
    {
      "cell_type": "code",
      "source": [
        "config_data=utl.read_config_file(\"/content/file.yaml\")"
      ],
      "metadata": {
        "id": "87ue90JV-ega"
      },
      "execution_count": 20,
      "outputs": []
    },
    {
      "cell_type": "code",
      "source": [
        "config_data"
      ],
      "metadata": {
        "colab": {
          "base_uri": "https://localhost:8080/"
        },
        "id": "WMwo96RD-nvB",
        "outputId": "c80e6d21-c324-484f-b298-14f3833425ce"
      },
      "execution_count": 21,
      "outputs": [
        {
          "output_type": "execute_result",
          "data": {
            "text/plain": [
              "{'file_type': 'csv',\n",
              " 'dataset_name': 'stream_games_reviews',\n",
              " 'file_name': 'stream_dataset',\n",
              " 'table_name': 'reviews_table',\n",
              " 'inbound_delimiter': ',',\n",
              " 'outbound_delimiter': '|',\n",
              " 'skip_leading_rows': 0,\n",
              " 'columns': ['app_id',\n",
              "  'app_name',\n",
              "  'review_text',\n",
              "  'review_score',\n",
              "  'review_votes']}"
            ]
          },
          "metadata": {},
          "execution_count": 21
        }
      ]
    },
    {
      "cell_type": "code",
      "source": [
        "file_type=config_data['file_type']\n",
        "source_file=\"./\"+config_data['file_name']+f'.{file_type}'\n",
        "delimiter=config_data['inbound_delimiter']"
      ],
      "metadata": {
        "id": "HDk-E_Gx-xDi"
      },
      "execution_count": 22,
      "outputs": []
    },
    {
      "cell_type": "code",
      "source": [
        "df=pd.read_csv(source_file,delimiter=delimiter)\n",
        "df.head()"
      ],
      "metadata": {
        "colab": {
          "base_uri": "https://localhost:8080/",
          "height": 206
        },
        "id": "w0qL4yoB_gnd",
        "outputId": "36a5fc49-1590-43cc-beda-21e5a0344cd3"
      },
      "execution_count": 23,
      "outputs": [
        {
          "output_type": "execute_result",
          "data": {
            "text/plain": [
              "   app_id        app_name                                        review_text  \\\n",
              "0      10  Counter-Strike                                    Ruined my life.   \n",
              "1      10  Counter-Strike  This will be more of a ''my experience with th...   \n",
              "2      10  Counter-Strike                      This game saved my virginity.   \n",
              "3      10  Counter-Strike  • Do you like original games? • Do you like ga...   \n",
              "4      10  Counter-Strike           Easy to learn, hard to master.             \n",
              "\n",
              "   review_score  review_votes  \n",
              "0             1             0  \n",
              "1             1             1  \n",
              "2             1             0  \n",
              "3             1             0  \n",
              "4             1             1  "
            ],
            "text/html": [
              "\n",
              "  <div id=\"df-501a780a-cf8f-48ef-90b2-a8cee1f5d81c\" class=\"colab-df-container\">\n",
              "    <div>\n",
              "<style scoped>\n",
              "    .dataframe tbody tr th:only-of-type {\n",
              "        vertical-align: middle;\n",
              "    }\n",
              "\n",
              "    .dataframe tbody tr th {\n",
              "        vertical-align: top;\n",
              "    }\n",
              "\n",
              "    .dataframe thead th {\n",
              "        text-align: right;\n",
              "    }\n",
              "</style>\n",
              "<table border=\"1\" class=\"dataframe\">\n",
              "  <thead>\n",
              "    <tr style=\"text-align: right;\">\n",
              "      <th></th>\n",
              "      <th>app_id</th>\n",
              "      <th>app_name</th>\n",
              "      <th>review_text</th>\n",
              "      <th>review_score</th>\n",
              "      <th>review_votes</th>\n",
              "    </tr>\n",
              "  </thead>\n",
              "  <tbody>\n",
              "    <tr>\n",
              "      <th>0</th>\n",
              "      <td>10</td>\n",
              "      <td>Counter-Strike</td>\n",
              "      <td>Ruined my life.</td>\n",
              "      <td>1</td>\n",
              "      <td>0</td>\n",
              "    </tr>\n",
              "    <tr>\n",
              "      <th>1</th>\n",
              "      <td>10</td>\n",
              "      <td>Counter-Strike</td>\n",
              "      <td>This will be more of a ''my experience with th...</td>\n",
              "      <td>1</td>\n",
              "      <td>1</td>\n",
              "    </tr>\n",
              "    <tr>\n",
              "      <th>2</th>\n",
              "      <td>10</td>\n",
              "      <td>Counter-Strike</td>\n",
              "      <td>This game saved my virginity.</td>\n",
              "      <td>1</td>\n",
              "      <td>0</td>\n",
              "    </tr>\n",
              "    <tr>\n",
              "      <th>3</th>\n",
              "      <td>10</td>\n",
              "      <td>Counter-Strike</td>\n",
              "      <td>• Do you like original games? • Do you like ga...</td>\n",
              "      <td>1</td>\n",
              "      <td>0</td>\n",
              "    </tr>\n",
              "    <tr>\n",
              "      <th>4</th>\n",
              "      <td>10</td>\n",
              "      <td>Counter-Strike</td>\n",
              "      <td>Easy to learn, hard to master.</td>\n",
              "      <td>1</td>\n",
              "      <td>1</td>\n",
              "    </tr>\n",
              "  </tbody>\n",
              "</table>\n",
              "</div>\n",
              "    <div class=\"colab-df-buttons\">\n",
              "\n",
              "  <div class=\"colab-df-container\">\n",
              "    <button class=\"colab-df-convert\" onclick=\"convertToInteractive('df-501a780a-cf8f-48ef-90b2-a8cee1f5d81c')\"\n",
              "            title=\"Convert this dataframe to an interactive table.\"\n",
              "            style=\"display:none;\">\n",
              "\n",
              "  <svg xmlns=\"http://www.w3.org/2000/svg\" height=\"24px\" viewBox=\"0 -960 960 960\">\n",
              "    <path d=\"M120-120v-720h720v720H120Zm60-500h600v-160H180v160Zm220 220h160v-160H400v160Zm0 220h160v-160H400v160ZM180-400h160v-160H180v160Zm440 0h160v-160H620v160ZM180-180h160v-160H180v160Zm440 0h160v-160H620v160Z\"/>\n",
              "  </svg>\n",
              "    </button>\n",
              "\n",
              "  <style>\n",
              "    .colab-df-container {\n",
              "      display:flex;\n",
              "      gap: 12px;\n",
              "    }\n",
              "\n",
              "    .colab-df-convert {\n",
              "      background-color: #E8F0FE;\n",
              "      border: none;\n",
              "      border-radius: 50%;\n",
              "      cursor: pointer;\n",
              "      display: none;\n",
              "      fill: #1967D2;\n",
              "      height: 32px;\n",
              "      padding: 0 0 0 0;\n",
              "      width: 32px;\n",
              "    }\n",
              "\n",
              "    .colab-df-convert:hover {\n",
              "      background-color: #E2EBFA;\n",
              "      box-shadow: 0px 1px 2px rgba(60, 64, 67, 0.3), 0px 1px 3px 1px rgba(60, 64, 67, 0.15);\n",
              "      fill: #174EA6;\n",
              "    }\n",
              "\n",
              "    .colab-df-buttons div {\n",
              "      margin-bottom: 4px;\n",
              "    }\n",
              "\n",
              "    [theme=dark] .colab-df-convert {\n",
              "      background-color: #3B4455;\n",
              "      fill: #D2E3FC;\n",
              "    }\n",
              "\n",
              "    [theme=dark] .colab-df-convert:hover {\n",
              "      background-color: #434B5C;\n",
              "      box-shadow: 0px 1px 3px 1px rgba(0, 0, 0, 0.15);\n",
              "      filter: drop-shadow(0px 1px 2px rgba(0, 0, 0, 0.3));\n",
              "      fill: #FFFFFF;\n",
              "    }\n",
              "  </style>\n",
              "\n",
              "    <script>\n",
              "      const buttonEl =\n",
              "        document.querySelector('#df-501a780a-cf8f-48ef-90b2-a8cee1f5d81c button.colab-df-convert');\n",
              "      buttonEl.style.display =\n",
              "        google.colab.kernel.accessAllowed ? 'block' : 'none';\n",
              "\n",
              "      async function convertToInteractive(key) {\n",
              "        const element = document.querySelector('#df-501a780a-cf8f-48ef-90b2-a8cee1f5d81c');\n",
              "        const dataTable =\n",
              "          await google.colab.kernel.invokeFunction('convertToInteractive',\n",
              "                                                    [key], {});\n",
              "        if (!dataTable) return;\n",
              "\n",
              "        const docLinkHtml = 'Like what you see? Visit the ' +\n",
              "          '<a target=\"_blank\" href=https://colab.research.google.com/notebooks/data_table.ipynb>data table notebook</a>'\n",
              "          + ' to learn more about interactive tables.';\n",
              "        element.innerHTML = '';\n",
              "        dataTable['output_type'] = 'display_data';\n",
              "        await google.colab.output.renderOutput(dataTable, element);\n",
              "        const docLink = document.createElement('div');\n",
              "        docLink.innerHTML = docLinkHtml;\n",
              "        element.appendChild(docLink);\n",
              "      }\n",
              "    </script>\n",
              "  </div>\n",
              "\n",
              "\n",
              "<div id=\"df-bc761714-9b85-4b07-90ee-f02952511b78\">\n",
              "  <button class=\"colab-df-quickchart\" onclick=\"quickchart('df-bc761714-9b85-4b07-90ee-f02952511b78')\"\n",
              "            title=\"Suggest charts\"\n",
              "            style=\"display:none;\">\n",
              "\n",
              "<svg xmlns=\"http://www.w3.org/2000/svg\" height=\"24px\"viewBox=\"0 0 24 24\"\n",
              "     width=\"24px\">\n",
              "    <g>\n",
              "        <path d=\"M19 3H5c-1.1 0-2 .9-2 2v14c0 1.1.9 2 2 2h14c1.1 0 2-.9 2-2V5c0-1.1-.9-2-2-2zM9 17H7v-7h2v7zm4 0h-2V7h2v10zm4 0h-2v-4h2v4z\"/>\n",
              "    </g>\n",
              "</svg>\n",
              "  </button>\n",
              "\n",
              "<style>\n",
              "  .colab-df-quickchart {\n",
              "      --bg-color: #E8F0FE;\n",
              "      --fill-color: #1967D2;\n",
              "      --hover-bg-color: #E2EBFA;\n",
              "      --hover-fill-color: #174EA6;\n",
              "      --disabled-fill-color: #AAA;\n",
              "      --disabled-bg-color: #DDD;\n",
              "  }\n",
              "\n",
              "  [theme=dark] .colab-df-quickchart {\n",
              "      --bg-color: #3B4455;\n",
              "      --fill-color: #D2E3FC;\n",
              "      --hover-bg-color: #434B5C;\n",
              "      --hover-fill-color: #FFFFFF;\n",
              "      --disabled-bg-color: #3B4455;\n",
              "      --disabled-fill-color: #666;\n",
              "  }\n",
              "\n",
              "  .colab-df-quickchart {\n",
              "    background-color: var(--bg-color);\n",
              "    border: none;\n",
              "    border-radius: 50%;\n",
              "    cursor: pointer;\n",
              "    display: none;\n",
              "    fill: var(--fill-color);\n",
              "    height: 32px;\n",
              "    padding: 0;\n",
              "    width: 32px;\n",
              "  }\n",
              "\n",
              "  .colab-df-quickchart:hover {\n",
              "    background-color: var(--hover-bg-color);\n",
              "    box-shadow: 0 1px 2px rgba(60, 64, 67, 0.3), 0 1px 3px 1px rgba(60, 64, 67, 0.15);\n",
              "    fill: var(--button-hover-fill-color);\n",
              "  }\n",
              "\n",
              "  .colab-df-quickchart-complete:disabled,\n",
              "  .colab-df-quickchart-complete:disabled:hover {\n",
              "    background-color: var(--disabled-bg-color);\n",
              "    fill: var(--disabled-fill-color);\n",
              "    box-shadow: none;\n",
              "  }\n",
              "\n",
              "  .colab-df-spinner {\n",
              "    border: 2px solid var(--fill-color);\n",
              "    border-color: transparent;\n",
              "    border-bottom-color: var(--fill-color);\n",
              "    animation:\n",
              "      spin 1s steps(1) infinite;\n",
              "  }\n",
              "\n",
              "  @keyframes spin {\n",
              "    0% {\n",
              "      border-color: transparent;\n",
              "      border-bottom-color: var(--fill-color);\n",
              "      border-left-color: var(--fill-color);\n",
              "    }\n",
              "    20% {\n",
              "      border-color: transparent;\n",
              "      border-left-color: var(--fill-color);\n",
              "      border-top-color: var(--fill-color);\n",
              "    }\n",
              "    30% {\n",
              "      border-color: transparent;\n",
              "      border-left-color: var(--fill-color);\n",
              "      border-top-color: var(--fill-color);\n",
              "      border-right-color: var(--fill-color);\n",
              "    }\n",
              "    40% {\n",
              "      border-color: transparent;\n",
              "      border-right-color: var(--fill-color);\n",
              "      border-top-color: var(--fill-color);\n",
              "    }\n",
              "    60% {\n",
              "      border-color: transparent;\n",
              "      border-right-color: var(--fill-color);\n",
              "    }\n",
              "    80% {\n",
              "      border-color: transparent;\n",
              "      border-right-color: var(--fill-color);\n",
              "      border-bottom-color: var(--fill-color);\n",
              "    }\n",
              "    90% {\n",
              "      border-color: transparent;\n",
              "      border-bottom-color: var(--fill-color);\n",
              "    }\n",
              "  }\n",
              "</style>\n",
              "\n",
              "  <script>\n",
              "    async function quickchart(key) {\n",
              "      const quickchartButtonEl =\n",
              "        document.querySelector('#' + key + ' button');\n",
              "      quickchartButtonEl.disabled = true;  // To prevent multiple clicks.\n",
              "      quickchartButtonEl.classList.add('colab-df-spinner');\n",
              "      try {\n",
              "        const charts = await google.colab.kernel.invokeFunction(\n",
              "            'suggestCharts', [key], {});\n",
              "      } catch (error) {\n",
              "        console.error('Error during call to suggestCharts:', error);\n",
              "      }\n",
              "      quickchartButtonEl.classList.remove('colab-df-spinner');\n",
              "      quickchartButtonEl.classList.add('colab-df-quickchart-complete');\n",
              "    }\n",
              "    (() => {\n",
              "      let quickchartButtonEl =\n",
              "        document.querySelector('#df-bc761714-9b85-4b07-90ee-f02952511b78 button');\n",
              "      quickchartButtonEl.style.display =\n",
              "        google.colab.kernel.accessAllowed ? 'block' : 'none';\n",
              "    })();\n",
              "  </script>\n",
              "</div>\n",
              "\n",
              "    </div>\n",
              "  </div>\n"
            ],
            "application/vnd.google.colaboratory.intrinsic+json": {
              "type": "dataframe",
              "variable_name": "df"
            }
          },
          "metadata": {},
          "execution_count": 23
        }
      ]
    },
    {
      "cell_type": "code",
      "source": [
        "utl.col_header_val(df,config_data)"
      ],
      "metadata": {
        "colab": {
          "base_uri": "https://localhost:8080/"
        },
        "id": "EbuRUt1xAY_g",
        "outputId": "b9f4bfca-7ab9-41a3-a7f5-6b70a80a6c39"
      },
      "execution_count": 24,
      "outputs": [
        {
          "output_type": "stream",
          "name": "stdout",
          "text": [
            "column name and column length validation passed\n"
          ]
        },
        {
          "output_type": "execute_result",
          "data": {
            "text/plain": [
              "1"
            ]
          },
          "metadata": {},
          "execution_count": 24
        }
      ]
    },
    {
      "cell_type": "code",
      "source": [
        "if utl.col_header_val(df,config_data)==0:\n",
        "  print(\"Validation Failed\")\n",
        "  print(\"Cols of file are: \",df.columns)\n",
        "  print(\"Cols of YAML are: \",config_data['columns'])\n",
        "  print(\"Handle mismatched columns or Simply Reject the file\")\n",
        "else:\n",
        "  print(\"Validation Passed\")\n",
        "  print(\"Data has passed basic validation and is ready for further processing.\")"
      ],
      "metadata": {
        "colab": {
          "base_uri": "https://localhost:8080/"
        },
        "id": "E4WXwy9yDI8u",
        "outputId": "2c2070c4-a2c3-413b-8bbe-d046cf2436c6"
      },
      "execution_count": 25,
      "outputs": [
        {
          "output_type": "stream",
          "name": "stdout",
          "text": [
            "column name and column length validation passed\n",
            "Validation Passed\n",
            "Data has passed basic validation and is ready for further processing.\n"
          ]
        }
      ]
    },
    {
      "cell_type": "code",
      "source": [
        "import pandas as pd\n",
        "from timeit import timeit\n",
        "import gzip\n",
        "\n",
        "def compress_to_gz(data, output_filename):\n",
        "  \"\"\"\n",
        "  Compresses the provided data (string) to a pipe-separated GZ format.\n",
        "\n",
        "  Args:\n",
        "      data: The string data to compress (validation results).\n",
        "      output_filename: The name of the output GZ file.\n",
        "  \"\"\"\n",
        "  with gzip.open(output_filename, \"wb\") as f_out:\n",
        "    f_out.write(data.encode(\"utf-8\"))\n",
        "\n"
      ],
      "metadata": {
        "id": "h8aFxydoVKdy"
      },
      "execution_count": 26,
      "outputs": []
    },
    {
      "cell_type": "code",
      "source": [
        "if utl.col_header_val(df, config_data) == 0:\n",
        "  print(\"Validation Failed\")\n",
        "  print(\"Cols of file are: \", df.columns)\n",
        "  print(\"Cols of YAML are: \", config_data['columns'])\n",
        "  print(\"Handle mismatched columns or Simply Reject the file\")\n",
        "  cols=df.cols\n",
        "  c_cols=config_data['columns']\n",
        "  validation_message = (\"Column mismatch|Handle mismatched columns or Simply Reject the file\")\n",
        "else:\n",
        "  print(\"Validation Passed\")\n",
        "  print(\"Data has passed basic validation and is ready for further processing.\")\n",
        "  validation_message=(\"Validation Passed\")\n"
      ],
      "metadata": {
        "colab": {
          "base_uri": "https://localhost:8080/"
        },
        "id": "FofC61DxVbP-",
        "outputId": "45802351-5f6d-4d48-9cd7-956c59814fc4"
      },
      "execution_count": 70,
      "outputs": [
        {
          "output_type": "stream",
          "name": "stdout",
          "text": [
            "column name and column length validation passed\n",
            "Validation Passed\n",
            "Data has passed basic validation and is ready for further processing.\n"
          ]
        }
      ]
    },
    {
      "cell_type": "code",
      "source": [
        "import pandas as pd\n",
        "from timeit import timeit\n",
        "\n",
        "csv_path = \"/content/stream_dataset.csv\"\n",
        "\n",
        "def read_csv_pandas():\n",
        "    start_time = timeit()\n",
        "    df_pandas = pd.read_csv(csv_path)\n",
        "    end_time = timeit()\n",
        "    return end_time - start_time\n",
        "\n",
        "pandas_time = read_csv_pandas()\n"
      ],
      "metadata": {
        "id": "BuJIZZ47Ja1H"
      },
      "execution_count": 28,
      "outputs": []
    },
    {
      "cell_type": "code",
      "source": [
        "pandas_time"
      ],
      "metadata": {
        "colab": {
          "base_uri": "https://localhost:8080/"
        },
        "id": "U8eaKVGsNOqK",
        "outputId": "8116101a-3e31-481e-ea8a-7d4374afc33f"
      },
      "execution_count": 29,
      "outputs": [
        {
          "output_type": "execute_result",
          "data": {
            "text/plain": [
              "-0.014622276001318824"
            ]
          },
          "metadata": {},
          "execution_count": 29
        }
      ]
    },
    {
      "cell_type": "code",
      "source": [
        "import dask.dataframe as dd\n",
        "\n",
        "csv_path = \"/content/stream_dataset.csv\"\n",
        "\n",
        "\n",
        "def process_data_chunk(chunk):\n",
        "\n",
        "    return chunk * 2\n",
        "\n",
        "\n",
        "def process_data_dask(csv_path):\n",
        "    start_time = timeit()\n",
        "    df_dask = dd.read_csv(csv_path)\n",
        "\n",
        "    processed_df_dask = df_dask.map_partitions(process_data_chunk)\n",
        "\n",
        "    end_time = timeit()\n",
        "    return processed_df_dask, end_time - start_time\n",
        "\n",
        "\n",
        "processed_df_dask, dask_time = process_data_dask(csv_path)\n",
        "\n",
        "\n",
        "panda_time = pandas_time\n",
        "\n",
        "if dask_time < panda_time:\n",
        "    print(\"Dask might be sufficient for this data size or operation.\")\n",
        "\n",
        "else:\n",
        "    print(\"Dask is likely faster for parallel processing on this dataset.\")\n",
        "\n"
      ],
      "metadata": {
        "colab": {
          "base_uri": "https://localhost:8080/"
        },
        "id": "Lhx1GjuwLuJT",
        "outputId": "fa5a4f11-346b-4008-90dc-31634ff81991"
      },
      "execution_count": 30,
      "outputs": [
        {
          "output_type": "stream",
          "name": "stdout",
          "text": [
            "Dask is likely faster for parallel processing on this dataset.\n"
          ]
        }
      ]
    },
    {
      "cell_type": "code",
      "source": [
        "dask_time"
      ],
      "metadata": {
        "colab": {
          "base_uri": "https://localhost:8080/"
        },
        "id": "NOL3zLlMNfHW",
        "outputId": "e5cbab3b-339c-45f0-b02a-c567d4e351d9"
      },
      "execution_count": 31,
      "outputs": [
        {
          "output_type": "execute_result",
          "data": {
            "text/plain": [
              "-0.013186422000217135"
            ]
          },
          "metadata": {},
          "execution_count": 31
        }
      ]
    },
    {
      "cell_type": "code",
      "source": [
        "import numpy as np\n",
        "import ray\n",
        "\n",
        "array_size = 100_000_000\n",
        "\n",
        "data = np.random.rand(array_size)\n",
        "\n",
        "\n",
        "def process_chunk(chunk):\n",
        "    return chunk * 2\n",
        "\n",
        "\n",
        "@ray.remote\n",
        "def process_ray_chunk(chunk):\n",
        "    return process_chunk(chunk)\n",
        "\n",
        "def process_ray():\n",
        "    start_time = timeit()\n",
        "    ray.init()\n",
        "    chunks = np.array_split(data, 4)\n",
        "    processed_chunks = [process_ray_chunk.remote(chunk) for chunk in chunks]\n",
        "    processed_data = np.concatenate(ray.get(processed_chunks))\n",
        "    ray.shutdown()\n",
        "    end_time = timeit()\n",
        "    return end_time - start_time\n",
        "\n",
        "\n",
        "processing_time = process_ray()"
      ],
      "metadata": {
        "colab": {
          "base_uri": "https://localhost:8080/"
        },
        "id": "yKHaGJY5KQ3B",
        "outputId": "6f8f7cae-672d-4c22-d361-9ad4f29b78cd"
      },
      "execution_count": 32,
      "outputs": [
        {
          "output_type": "stream",
          "name": "stderr",
          "text": [
            "2024-05-12 20:38:27,207\tINFO worker.py:1740 -- Started a local Ray instance. View the dashboard at \u001b[1m\u001b[32m127.0.0.1:8265 \u001b[39m\u001b[22m\n"
          ]
        }
      ]
    },
    {
      "cell_type": "code",
      "source": [
        "processing_time"
      ],
      "metadata": {
        "colab": {
          "base_uri": "https://localhost:8080/"
        },
        "id": "_X7pLwxrN16W",
        "outputId": "0971329c-80a7-4771-c959-08095ee698d6"
      },
      "execution_count": 33,
      "outputs": [
        {
          "output_type": "execute_result",
          "data": {
            "text/plain": [
              "0.02002304099914909"
            ]
          },
          "metadata": {},
          "execution_count": 33
        }
      ]
    },
    {
      "cell_type": "code",
      "source": [
        "print(f\"Pandas read time: {pandas_time:.2f} seconds\")\n",
        "print(f\"Dask processing time: {dask_time:.2f} seconds\")\n",
        "print(f\"Ray processing time: {processing_time:.2f} seconds\")\n",
        "\n",
        "\n",
        "if dask_time < processing_time:\n",
        "    print(\"Dask is faster for parallel processing on this dataset.\")\n",
        "\n",
        "elif processing_time < 0:\n",
        "    print(\"Pandas might be sufficient for this data size or operation.\")\n",
        "\n",
        "else:\n",
        "    print(\"Ray is the fastest option for this data size and operation.\")\n",
        ""
      ],
      "metadata": {
        "colab": {
          "base_uri": "https://localhost:8080/"
        },
        "id": "6qzeFnuyJkXw",
        "outputId": "f18f9797-b0b5-4c2e-e53a-2ccdf5f1789d"
      },
      "execution_count": 34,
      "outputs": [
        {
          "output_type": "stream",
          "name": "stdout",
          "text": [
            "Pandas read time: -0.01 seconds\n",
            "Dask processing time: -0.01 seconds\n",
            "Ray processing time: 0.02 seconds\n",
            "Dask is faster for parallel processing on this dataset.\n"
          ]
        }
      ]
    },
    {
      "cell_type": "code",
      "source": [
        "pandas_time_str=str(pandas_time)\n",
        "dask_time_str=str(dask_time)\n",
        "ray_time_str=str(processing_time)"
      ],
      "metadata": {
        "id": "7acrw4adcZCW"
      },
      "execution_count": 35,
      "outputs": []
    },
    {
      "cell_type": "code",
      "source": [
        "compare_msg= validation_message + \"|Pandas Processing time :\" + pandas_time_str + \"|Dask processing time :\" + dask_time_str + \"|Ray processing time:\" + ray_time_str + \"|Dask is faster for parallel processing on this dataset.\"\n",
        "compress_to_gz(compare_msg, \"validation_results.pipe.gz\")"
      ],
      "metadata": {
        "id": "U5VQud3rYQTp"
      },
      "execution_count": 36,
      "outputs": []
    },
    {
      "cell_type": "code",
      "source": [
        "import pandas as pd\n",
        "\n",
        "file_path = \"/content/validation_results.pipe.gz\"\n",
        "\n",
        "results = pd.read_csv(file_path, compression=\"gzip\", sep=\"|\")\n",
        "\n",
        "print(results)\n"
      ],
      "metadata": {
        "colab": {
          "base_uri": "https://localhost:8080/"
        },
        "id": "2moSkBVlY1qP",
        "outputId": "d1b99fa6-4faa-4357-91e9-b37c9cfa6797"
      },
      "execution_count": 37,
      "outputs": [
        {
          "output_type": "stream",
          "name": "stdout",
          "text": [
            "Empty DataFrame\n",
            "Columns: [Validation Passed ,  Data has passed basic validation and is ready for further processing , Pandas Processing time :-0.014622276001318824, Dask processing time :-0.013186422000217135, Ray processing time:0.02002304099914909, Dask is faster for parallel processing on this dataset.]\n",
            "Index: []\n"
          ]
        }
      ]
    },
    {
      "cell_type": "code",
      "source": [
        "from transformers import pipeline\n",
        "import gzip\n",
        "\n",
        "# Path to your GZ file\n",
        "file_path = \"/content/validation_results.pipe.gz\"\n",
        "\n",
        "# Decompress the GZ file\n",
        "with gzip.open(file_path, \"rb\") as f_in:\n",
        "  decompressed_data = f_in.read().decode(\"utf-8\")\n",
        "\n",
        "# Initialize summarization pipeline with a pre-trained model\n",
        "summarizer = pipeline(\"summarization\")\n",
        "\n",
        "# Summarize the decompressed data\n",
        "summary = summarizer(decompressed_data, max_length=39, min_length=30)  # Adjust lengths as needed\n",
        "\n",
        "print(\"Summary:\", summary[0]['summary_text'])\n"
      ],
      "metadata": {
        "colab": {
          "base_uri": "https://localhost:8080/"
        },
        "id": "cesUlj0zdwvo",
        "outputId": "c8d5e737-5931-4ad3-9200-f475b4c4d807"
      },
      "execution_count": 38,
      "outputs": [
        {
          "output_type": "stream",
          "name": "stderr",
          "text": [
            "No model was supplied, defaulted to sshleifer/distilbart-cnn-12-6 and revision a4f8f3e (https://huggingface.co/sshleifer/distilbart-cnn-12-6).\n",
            "Using a pipeline without specifying a model name and revision in production is not recommended.\n",
            "/usr/local/lib/python3.10/dist-packages/huggingface_hub/utils/_token.py:88: UserWarning: \n",
            "The secret `HF_TOKEN` does not exist in your Colab secrets.\n",
            "To authenticate with the Hugging Face Hub, create a token in your settings tab (https://huggingface.co/settings/tokens), set it as secret in your Google Colab and restart your session.\n",
            "You will be able to reuse this secret in all of your notebooks.\n",
            "Please note that authentication is recommended but still optional to access public models or datasets.\n",
            "  warnings.warn(\n"
          ]
        },
        {
          "output_type": "stream",
          "name": "stdout",
          "text": [
            "Summary:  Pandas processing time :-0.014622276001318824|Ray processing time:0.013186422000217135|Pandas is faster for\n"
          ]
        }
      ]
    },
    {
      "cell_type": "code",
      "source": [
        "import gzip\n",
        "\n",
        "# Path to your GZ file\n",
        "file_path = \"/content/validation_results.pipe.gz\"\n",
        "\n",
        "# Decompress the GZ file\n",
        "with gzip.open(file_path, \"rb\") as f_in:\n",
        "  decompressed_data = f_in.read().decode(\"utf-8\")\n",
        "\n",
        "# Extract key information (validation outcome, processing times)\n",
        "validation_outcome = decompressed_data.split(\"|\")[0]  # Assuming validation message is first field\n",
        "processing_times = decompressed_data.split(\"|\")[1:]  # Extract remaining fields\n",
        "# Generate a summary message (modify as needed)\n",
        "summary = f\"Validation Outcome: {validation_outcome}\\nProcessing Times:\\n\"\n",
        "\n",
        "\n",
        "# Validate data format before processing (assuming consistent format)\n",
        "valid_data = [time_str for time_str in processing_times if len(time_str.split(\"|\")) >= 3]\n",
        "\n",
        "print(\"Summary:\\n\", summary)\n"
      ],
      "metadata": {
        "colab": {
          "base_uri": "https://localhost:8080/"
        },
        "id": "ToQL9u-6eE9P",
        "outputId": "17c90ed6-0169-42a0-c746-b3e1c2e50225"
      },
      "execution_count": 39,
      "outputs": [
        {
          "output_type": "stream",
          "name": "stdout",
          "text": [
            "Summary:\n",
            " Validation Outcome: Validation Passed \n",
            "Processing Times:\n",
            "\n"
          ]
        }
      ]
    },
    {
      "cell_type": "code",
      "source": [
        "import gzip\n",
        "\n",
        "validation_result = validation_message\n",
        "total_cols = len(df.columns)\n",
        "total_rows = len(df)\n",
        "file_size = '2.01 GB'\n",
        "compare_msg = (\n",
        "    validation_result\n",
        "    + \"| Pandas Processing time: \"\n",
        "    + str(pandas_time)\n",
        "    + \"| Dask Processing time: \"\n",
        "    + str(dask_time)\n",
        "    + \"| Ray Processing time: \"\n",
        "    + str(processing_time)\n",
        "    + f\" | Total Rows: {total_rows} | Total Columns: {total_cols} | File Size: {file_size}\"\n",
        ")\n",
        "\n",
        "\n",
        "\n",
        "# Compress the message into a GZ file (replace if needed)\n",
        "file_path = \"/content/validation_results.pipe.gz\"\n",
        "with gzip.open(file_path, \"wb\") as f_out:\n",
        "    f_out.write(compare_msg.encode(\"utf-8\"))\n",
        "\n",
        "# Decompress the GZ file and read the data\n",
        "with gzip.open(file_path, \"rb\") as f_in:\n",
        "    decompressed_data = f_in.read().decode(\"utf-8\")\n",
        "\n",
        "decompressed_data\n",
        "\n"
      ],
      "metadata": {
        "colab": {
          "base_uri": "https://localhost:8080/",
          "height": 53
        },
        "id": "CX-DIWNDiofA",
        "outputId": "1f07610c-2b9a-4b6c-d12f-5e0ba67e8fb7"
      },
      "execution_count": 88,
      "outputs": [
        {
          "output_type": "execute_result",
          "data": {
            "text/plain": [
              "'Validation Passed| Pandas Processing time: -0.014622276001318824| Dask Processing time: -0.013186422000217135| Ray Processing time: 0.02002304099914909 | Total Rows: 6417106 | Total Columns: 5 | File Size: 2.01 GB'"
            ],
            "application/vnd.google.colaboratory.intrinsic+json": {
              "type": "string"
            }
          },
          "metadata": {},
          "execution_count": 88
        }
      ]
    },
    {
      "cell_type": "code",
      "source": [
        "\n",
        "# Extract key information (validation outcome, processing times)\n",
        "outcome = decompressed_data.split(\"|\")[0]\n",
        "processing_times = decompressed_data.split(\"|\")[1:]\n",
        "\n",
        "# Generate the summary message\n",
        "summary = (\n",
        "    f\"Validation Outcome: {outcome}\\n\"\n",
        "    f\"Processing Times:\\n\"\n",
        ")\n",
        "\n",
        "# Process valid data entries (assuming consistent format)\n",
        "# ... (existing code)\n",
        "\n",
        "for time_str in processing_times:\n",
        "    if len(time_str.split(\"|\")) >= 1:  # Adjust if more than 1 element is expected\n",
        "        system_name = time_str.split(\"|\")[0]\n",
        "        summary += f\"- {system_name}\\n\"\n",
        "    else:\n",
        "        summary += f\"- Incomplete processing time data: {time_str}\\n\"\n",
        "\n",
        "summary += \"Dask is faster for processing on this dataset.\\n\"\n",
        "\n",
        "\n",
        "\n",
        "\n",
        "\n",
        "# Print the summary\n",
        "print(\"Summary:\\n\", summary)\n"
      ],
      "metadata": {
        "colab": {
          "base_uri": "https://localhost:8080/"
        },
        "id": "ciOTDhTuohHz",
        "outputId": "aed1af84-372d-413a-9452-dd252aaf0175"
      },
      "execution_count": 90,
      "outputs": [
        {
          "output_type": "stream",
          "name": "stdout",
          "text": [
            "Summary:\n",
            " Validation Outcome: Validation Passed\n",
            "Processing Times:\n",
            "-  Pandas Processing time: -0.014622276001318824\n",
            "-  Dask Processing time: -0.013186422000217135\n",
            "-  Ray Processing time: 0.02002304099914909 \n",
            "-  Total Rows: 6417106 \n",
            "-  Total Columns: 5 \n",
            "-  File Size: 2.01 GB\n",
            "Dask is faster for processing on this dataset.\n",
            "\n"
          ]
        }
      ]
    }
  ]
}